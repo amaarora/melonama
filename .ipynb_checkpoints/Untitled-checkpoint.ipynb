{
 "cells": [
  {
   "cell_type": "code",
   "execution_count": 7,
   "metadata": {},
   "outputs": [
    {
     "name": "stdout",
     "output_type": "stream",
     "text": [
      "Images will be resized to 512\n",
      "Running for K-Fold 0; train_df: (26160, 9), valid_df: (6541, 9)\n",
      "Loaded pretrained weights for efficientnet-b3\n",
      "\n",
      "Using train augmentations: Compose([\n",
      "  RandomScale(always_apply=False, p=0.5, interpolation=1, scale_limit=(-0.07000000000000006, 0.07000000000000006)),\n",
      "  Rotate(always_apply=False, p=0.5, limit=(-50, 50), interpolation=1, border_mode=4, value=None, mask_value=None),\n",
      "  RandomBrightnessContrast(always_apply=False, p=0.5, brightness_limit=(-0.15, 0.15), contrast_limit=(-0.1, 0.1), brightness_by_max=True),\n",
      "  Flip(always_apply=False, p=0.5),\n",
      "  IAAAffine(always_apply=False, p=0.5, scale=(1.0, 1.0), translate_percent=None, translate_px=None, rotate=(-0.0, 0.0), shear=(-0.1, 0.1), order=1, cval=0, mode='reflect'),\n",
      "  RandomCrop(always_apply=False, p=1.0, height=512, width=512),\n",
      "  OneOf([\n",
      "    Cutout(always_apply=False, p=0.5, num_holes=4, max_h_size=16, max_w_size=16),\n",
      "    CoarseDropout(always_apply=False, p=0.5, max_holes=5, max_height=16, max_width=16, min_holes=5, min_height=16, min_width=16),\n",
      "  ], p=0.5),\n",
      "  Normalize(always_apply=True, p=1.0, mean=(0.485, 0.456, 0.406), std=(0.229, 0.224, 0.225), max_pixel_value=255.0),\n",
      "], p=1.0, bbox_params=None, keypoint_params=None, additional_targets={})\n",
      "\n",
      "\n",
      "\n",
      "1663 external images will be added to each training fold.\n",
      "\n",
      "\n",
      "10982 test images will be added to each training fold.\n",
      "\n",
      "\n",
      " Total Train images: 38805, Total val: 6541\n",
      "\n",
      "\n",
      "Due to gradient accumulation of 8 using global batch size of 128\n",
      "  0%|                                                  | 0/2426 [00:00<?, ?it/s]\n",
      "Traceback (most recent call last):\n",
      "  File \"./src/train.py\", line 327, in <module>\n",
      "    main()\n",
      "  File \"./src/train.py\", line 318, in main\n",
      "    oof_df = run(kfolds[0], args)\n",
      "  File \"./src/train.py\", line 224, in run\n",
      "    train_loss = train_one_epoch(args, train_loader, model, optimizer, weights=None if not args.loss.startswith('weighted') else class_weights)\n",
      "  File \"./src/train.py\", line 35, in train_one_epoch\n",
      "    for b_idx, data in enumerate(tk0):\n",
      "  File \"/home/ubuntu/anaconda3/lib/python3.7/site-packages/tqdm/std.py\", line 1129, in __iter__\n",
      "    for obj in iterable:\n",
      "  File \"/home/ubuntu/anaconda3/lib/python3.7/site-packages/torch/utils/data/dataloader.py\", line 345, in __next__\n",
      "    data = self._next_data()\n",
      "  File \"/home/ubuntu/anaconda3/lib/python3.7/site-packages/torch/utils/data/dataloader.py\", line 856, in _next_data\n",
      "    return self._process_data(data)\n",
      "  File \"/home/ubuntu/anaconda3/lib/python3.7/site-packages/torch/utils/data/dataloader.py\", line 881, in _process_data\n",
      "    data.reraise()\n",
      "  File \"/home/ubuntu/anaconda3/lib/python3.7/site-packages/torch/_utils.py\", line 395, in reraise\n",
      "    raise self.exc_type(msg)\n",
      "FileNotFoundError: Caught FileNotFoundError in DataLoader worker process 0.\n",
      "Original Traceback (most recent call last):\n",
      "  File \"/home/ubuntu/anaconda3/lib/python3.7/site-packages/torch/utils/data/_utils/worker.py\", line 178, in _worker_loop\n",
      "    data = fetcher.fetch(index)\n",
      "  File \"/home/ubuntu/anaconda3/lib/python3.7/site-packages/torch/utils/data/_utils/fetch.py\", line 44, in fetch\n",
      "    data = [self.dataset[idx] for idx in possibly_batched_index]\n",
      "  File \"/home/ubuntu/anaconda3/lib/python3.7/site-packages/torch/utils/data/_utils/fetch.py\", line 44, in <listcomp>\n",
      "    data = [self.dataset[idx] for idx in possibly_batched_index]\n",
      "  File \"/home/ubuntu/repos/aman_isic/melonama/src/dataset.py\", line 20, in __getitem__\n",
      "    image = np.array(Image.open(image_path))\n",
      "  File \"/home/ubuntu/anaconda3/lib/python3.7/site-packages/PIL/Image.py\", line 2766, in open\n",
      "    fp = builtins.open(filename, \"rb\")\n",
      "FileNotFoundError: [Errno 2] No such file or directory: '/home/ubuntu/repos/kaggle/melonama_data/512x512/not_segmented/cc/train/ISIC_0028317.jpg'\n",
      "\n",
      "CPU times: user 60 ms, sys: 32 ms, total: 92 ms\n",
      "Wall time: 6.27 s\n"
     ]
    }
   ],
   "source": [
    "%%time\n",
    "!python ./src/train.py --model_name efficient_net \\\n",
    "--arch_name efficientnet-b3 --device cuda --metric 'auc' \\\n",
    "--training_folds_csv './triple_stratified_5_fold.csv' \\\n",
    "--train_data_dir '../train/' \\\n",
    "--kfold 0 --pretrained imagenet --train_batch_size 16 \\\n",
    "--valid_batch_size 16 --learning_rate  5e-4 \\\n",
    "--epochs 100 --sz 512 --accumulation_steps 8 \\\n",
    "--loss 'bce' --external_csv_path './external_melonama_with_meta.csv' \\\n",
    "--exclude_outliers_2019 --pseudo_labels_path './pseudo_labels.npy' --use_psuedo_labels \\\n",
    "--test_file_path './test.csv' --clean_external_npy './clean_external_2019.npy'"
   ]
  },
  {
   "cell_type": "code",
   "execution_count": 6,
   "metadata": {},
   "outputs": [
    {
     "name": "stdout",
     "output_type": "stream",
     "text": [
      "clean_external_2019_512.npy\t README.md\r\n",
      "external_melonama_with_meta.csv  src\r\n",
      "isic2019\t\t\t test.csv\r\n",
      "Melonama Experiments.xlsx\t triple_stratified_5_fold.csv\r\n",
      "pseudo_labels.npy\t\t Untitled.ipynb\r\n"
     ]
    }
   ],
   "source": [
    "!ls"
   ]
  }
 ],
 "metadata": {
  "kernelspec": {
   "display_name": "Python 3",
   "language": "python",
   "name": "python3"
  },
  "language_info": {
   "codemirror_mode": {
    "name": "ipython",
    "version": 3
   },
   "file_extension": ".py",
   "mimetype": "text/x-python",
   "name": "python",
   "nbconvert_exporter": "python",
   "pygments_lexer": "ipython3",
   "version": "3.7.4"
  },
  "toc": {
   "base_numbering": 1,
   "nav_menu": {},
   "number_sections": true,
   "sideBar": true,
   "skip_h1_title": false,
   "title_cell": "Table of Contents",
   "title_sidebar": "Contents",
   "toc_cell": false,
   "toc_position": {},
   "toc_section_display": true,
   "toc_window_display": false
  }
 },
 "nbformat": 4,
 "nbformat_minor": 2
}
