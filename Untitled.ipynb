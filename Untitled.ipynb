{
 "cells": [
  {
   "cell_type": "code",
   "execution_count": null,
   "metadata": {},
   "outputs": [
    {
     "name": "stdout",
     "output_type": "stream",
     "text": [
      "Images will be resized to 512\n",
      "Running for K-Fold 0; train_df: (26160, 9), valid_df: (6541, 9)\n",
      "Loaded pretrained weights for efficientnet-b3\n",
      "\n",
      "Using train augmentations: Compose([\n",
      "  RandomScale(always_apply=False, p=0.5, interpolation=1, scale_limit=(-0.07000000000000006, 0.07000000000000006)),\n",
      "  Rotate(always_apply=False, p=0.5, limit=(-50, 50), interpolation=1, border_mode=4, value=None, mask_value=None),\n",
      "  RandomBrightnessContrast(always_apply=False, p=0.5, brightness_limit=(-0.15, 0.15), contrast_limit=(-0.1, 0.1), brightness_by_max=True),\n",
      "  Flip(always_apply=False, p=0.5),\n",
      "  IAAAffine(always_apply=False, p=0.5, scale=(1.0, 1.0), translate_percent=None, translate_px=None, rotate=(-0.0, 0.0), shear=(-0.1, 0.1), order=1, cval=0, mode='reflect'),\n",
      "  RandomCrop(always_apply=False, p=1.0, height=512, width=512),\n",
      "  OneOf([\n",
      "    Cutout(always_apply=False, p=0.5, num_holes=8, max_h_size=16, max_w_size=16),\n",
      "    CoarseDropout(always_apply=False, p=0.5, max_holes=1, max_height=16, max_width=16, min_holes=1, min_height=16, min_width=16),\n",
      "  ], p=0.5),\n",
      "  Normalize(always_apply=True, p=1.0, mean=(0.485, 0.456, 0.406), std=(0.229, 0.224, 0.225), max_pixel_value=255.0),\n",
      "], p=1.0, bbox_params=None, keypoint_params=None, additional_targets={})\n",
      "\n",
      "\n",
      "\n",
      "1663 external images will be added to each training fold.\n",
      "\n",
      "\n",
      "10982 test images will be added to each training fold.\n",
      "\n",
      "\n",
      " Total Train images: 38805, Total val: 6541\n",
      "\n",
      "\n",
      "Due to gradient accumulation of 8 using global batch size of 32\n",
      "  7%|█▉                          | 652/9702 [02:57<41:44,  3.61it/s, loss=0.189]"
     ]
    }
   ],
   "source": [
    "%%time\n",
    "!python ./src/train.py --model_name efficient_net \\\n",
    "--arch_name efficientnet-b3 --device cuda --metric 'auc' \\\n",
    "--training_folds_csv './triple_stratified_5_fold.csv' \\\n",
    "--train_data_dir '../train/' \\\n",
    "--kfold 0 --pretrained imagenet --train_batch_size 4 \\\n",
    "--valid_batch_size 16 --learning_rate  5e-4 \\\n",
    "--epochs 100 --sz 512 --accumulation_steps 8 \\\n",
    "--loss 'bce' --external_csv_path './external_melonama_with_meta.csv' \\\n",
    "--exclude_outliers_2019 --pseudo_labels_path './pseudo_labels.npy' --use_psuedo_labels \\\n",
    "--test_file_path './test.csv' --clean_external_npy './clean_external_2019.npy'"
   ]
  }
 ],
 "metadata": {
  "kernelspec": {
   "display_name": "Python 3",
   "language": "python",
   "name": "python3"
  },
  "language_info": {
   "codemirror_mode": {
    "name": "ipython",
    "version": 3
   },
   "file_extension": ".py",
   "mimetype": "text/x-python",
   "name": "python",
   "nbconvert_exporter": "python",
   "pygments_lexer": "ipython3",
   "version": "3.7.4"
  },
  "toc": {
   "base_numbering": 1,
   "nav_menu": {},
   "number_sections": true,
   "sideBar": true,
   "skip_h1_title": false,
   "title_cell": "Table of Contents",
   "title_sidebar": "Contents",
   "toc_cell": false,
   "toc_position": {},
   "toc_section_display": true,
   "toc_window_display": false
  }
 },
 "nbformat": 4,
 "nbformat_minor": 2
}
